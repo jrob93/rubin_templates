{
 "cells": [
  {
   "cell_type": "code",
   "execution_count": 1,
   "id": "e680394e",
   "metadata": {},
   "outputs": [],
   "source": [
    "import os\n",
    "import numpy as np\n",
    "import matplotlib.pyplot as plt\n",
    "import matplotlib.gridspec as gridspec\n",
    "import pandas as pd\n",
    "import healpy as hp\n",
    "from scipy.stats import binned_statistic\n",
    "import rubin_sim.maf as maf\n",
    "from rubin_sim.data import get_baseline\n",
    "import time\n",
    "import sys\n",
    "import sqlite3\n",
    "import json\n",
    "import glob\n",
    "from natsort import natsorted\n",
    "import os\n",
    "\n",
    "import imageio\n",
    "from IPython.display import Image"
   ]
  },
  {
   "cell_type": "code",
   "execution_count": 2,
   "id": "fd194aa8",
   "metadata": {},
   "outputs": [
    {
     "name": "stdout",
     "output_type": "stream",
     "text": [
      "mkdir plot_template_coverage_figs/first_year_baseline_v3_3_10yrs_db_noDD_noTwi_nside_256_t-7d_CountMetric\n"
     ]
    }
   ],
   "source": [
    "baseline = \"first_year_baseline_v3_3_10yrs_db_noDD_noTwi\"\n",
    "night_min = 0\n",
    "night_max = 365\n",
    "# keep_nights = [3,90,180,270,365]\n",
    "keep_nights = [7,91,182,273,364]\n",
    "\n",
    "# keep_nights = np.arange(night_min,night_max+1,1)\n",
    "\n",
    "\n",
    "filt = \"_r_and\"\n",
    "# filt = \"\"\n",
    "# nside = 32\n",
    "nside = 256\n",
    "# tscale = 28\n",
    "# tscale = 3\n",
    "tscale = 7\n",
    "# metric = \"doAllTemplateMetrics_reduceCount\"\n",
    "metric = \"CountMetric\"\n",
    "\n",
    "savedir = \"{}_nside_{}_t-{}d_{}\".format(baseline,nside,tscale,metric)\n",
    "\n",
    "data_path = \"/home/jrobinson/rubin_templates/remove_no_template_results_{}_{}\".format(nside,baseline)\n",
    "\n",
    "# metric_fname = \"{}_tscale-{}_nside-{}_{}{}_night_lt_*_and_note_not_like_DD_and_note_not_like_twilight_HEAL.npz\".format(\n",
    "#                     baseline.split(\"_db_noDD_noTwi\")[0],tscale,nside,metric,filt)\n",
    "metric_fname = \"{}_tscale-{}_nside-{}_{}{}_night_lt_*_and_note_not_like_DD_and_note_not_like_twilight_HEAL.npz\".format(\n",
    "                    baseline,tscale,nside,metric,filt)\n",
    "\n",
    "savefig_path = \"plot_template_coverage_figs/{}\".format(savedir)\n",
    "\n",
    "if not os.path.isdir(savefig_path):\n",
    "    print(\"mkdir {}\".format(savefig_path))\n",
    "    os.mkdir(savefig_path)\n"
   ]
  },
  {
   "cell_type": "code",
   "execution_count": 9,
   "id": "c5c58f90",
   "metadata": {},
   "outputs": [
    {
     "data": {
      "text/plain": [
       "'/home/jrobinson/rubin_templates/remove_no_template_results_256_first_year_baseline_v3_3_10yrs_db_noDD_noTwi'"
      ]
     },
     "execution_count": 9,
     "metadata": {},
     "output_type": "execute_result"
    }
   ],
   "source": [
    "data_path"
   ]
  },
  {
   "cell_type": "code",
   "execution_count": 3,
   "id": "9c2f6de5",
   "metadata": {},
   "outputs": [],
   "source": [
    "metric_files = glob.glob(\"{}/{}\".format(data_path,metric_fname))\n",
    "metric_files = natsorted(metric_files)"
   ]
  },
  {
   "cell_type": "code",
   "execution_count": 4,
   "id": "2742630f",
   "metadata": {},
   "outputs": [
    {
     "data": {
      "text/plain": [
       "[]"
      ]
     },
     "execution_count": 4,
     "metadata": {},
     "output_type": "execute_result"
    }
   ],
   "source": [
    "metric_files"
   ]
  },
  {
   "cell_type": "code",
   "execution_count": 5,
   "id": "d675ae9c",
   "metadata": {},
   "outputs": [],
   "source": [
    "metric_files_keep = [x for x in metric_files if int(x.split(\"_lt_\")[-1].split(\"_\")[0]) in keep_nights]"
   ]
  },
  {
   "cell_type": "code",
   "execution_count": 6,
   "id": "9c6d4ed3",
   "metadata": {},
   "outputs": [
    {
     "data": {
      "text/plain": [
       "[]"
      ]
     },
     "execution_count": 6,
     "metadata": {},
     "output_type": "execute_result"
    }
   ],
   "source": [
    "metric_files_keep"
   ]
  },
  {
   "cell_type": "code",
   "execution_count": 7,
   "id": "e37d2ec3",
   "metadata": {},
   "outputs": [
    {
     "name": "stdout",
     "output_type": "stream",
     "text": [
      "first_year_baseline_v3_3_10yrs_db_noDD_noTwi_nside_256_t-7d_CountMetric\n"
     ]
    }
   ],
   "source": [
    "if len(metric_files_keep)<len(metric_files):\n",
    "    savedir = \"keep_nights_\" + savedir\n",
    "    \n",
    "print(savedir)"
   ]
  },
  {
   "cell_type": "code",
   "execution_count": 8,
   "id": "e9085119",
   "metadata": {},
   "outputs": [
    {
     "ename": "IndexError",
     "evalue": "list index out of range",
     "output_type": "error",
     "traceback": [
      "\u001b[0;31m---------------------------------------------------------------------------\u001b[0m",
      "\u001b[0;31mIndexError\u001b[0m                                Traceback (most recent call last)",
      "Cell \u001b[0;32mIn[8], line 1\u001b[0m\n\u001b[0;32m----> 1\u001b[0m mb \u001b[38;5;241m=\u001b[39m maf\u001b[38;5;241m.\u001b[39mMetricBundle\u001b[38;5;241m.\u001b[39mload(\u001b[43mmetric_files\u001b[49m\u001b[43m[\u001b[49m\u001b[38;5;241;43m0\u001b[39;49m\u001b[43m]\u001b[49m)\n",
      "\u001b[0;31mIndexError\u001b[0m: list index out of range"
     ]
    }
   ],
   "source": [
    "mb = maf.MetricBundle.load(metric_files[0])"
   ]
  },
  {
   "cell_type": "code",
   "execution_count": null,
   "id": "5b6634a1",
   "metadata": {},
   "outputs": [],
   "source": [
    "mb.__dict__"
   ]
  },
  {
   "cell_type": "code",
   "execution_count": null,
   "id": "2faf413b",
   "metadata": {},
   "outputs": [],
   "source": [
    "mb.file_root"
   ]
  },
  {
   "cell_type": "code",
   "execution_count": null,
   "id": "d5163cec",
   "metadata": {},
   "outputs": [],
   "source": [
    "    \n",
    "# # divide year 1 into chunks of a given template_timescale\n",
    "# template_nights = np.arange(0,night_max+tscale,tscale)\n",
    "# template_nights[-1] = night_max # consider only the first year\n",
    "    \n",
    "# template_nights"
   ]
  },
  {
   "cell_type": "code",
   "execution_count": null,
   "id": "b7804813",
   "metadata": {},
   "outputs": [],
   "source": [
    "# step = night_max/4.\n",
    "# plot_nights = np.arange(step,night_max+step,step)\n",
    "# step, plot_nights"
   ]
  },
  {
   "cell_type": "code",
   "execution_count": null,
   "id": "aeebf3be",
   "metadata": {},
   "outputs": [],
   "source": [
    "# arg_list = []\n",
    "# for i in range(len(plot_nights)):\n",
    "#     j = np.argmin(np.abs(template_nights - plot_nights[i]))\n",
    "#     arg_list.append(j)\n",
    "#     print(j, template_nights[j])\n",
    "# print"
   ]
  },
  {
   "cell_type": "code",
   "execution_count": null,
   "id": "aec5daee",
   "metadata": {},
   "outputs": [],
   "source": [
    "# retrieve data/mask for all the masked arrays\n",
    "# each value in data corresponds to the metric value for some slice point\n",
    "data = mb.metric_values.data\n",
    "mask = mb.metric_values.mask\n",
    "metric_vals = np.ma.array(data, mask=mask)\n",
    "        \n",
    "# replace the masked values with nan\n",
    "metric_vals.fill_value = np.nan"
   ]
  },
  {
   "cell_type": "code",
   "execution_count": null,
   "id": "510c3b6e",
   "metadata": {},
   "outputs": [],
   "source": [
    "#plot the skymap\n",
    "x = hp.mollview(metric_vals, title=mb.file_root, \n",
    "                cbar = None)\n",
    "hp.graticule()\n",
    "\n",
    "# customise the colorbar\n",
    "fig = plt.gcf()\n",
    "ax = plt.gca()\n",
    "image = ax.get_images()[0]\n",
    "cbar = fig.colorbar(image, ax=ax, orientation = \"horizontal\", shrink = 0.5, location = \"bottom\",\n",
    "                   pad = 0.05)\n",
    "cbar.set_label(\"count n visits\")\n",
    "\n",
    "#     fname = \"{}.png\".format(\"\".join(title.split(\" \")))\n",
    "#     plt.savefig(fname, facecolor=\"w\", transparent=True, bbox_inches=\"tight\")\n",
    "\n",
    "plt.show()"
   ]
  },
  {
   "cell_type": "code",
   "execution_count": null,
   "id": "0ab4655b",
   "metadata": {},
   "outputs": [],
   "source": [
    "len(metric_files)"
   ]
  },
  {
   "cell_type": "code",
   "execution_count": null,
   "id": "14439189",
   "metadata": {},
   "outputs": [],
   "source": [
    "### set min/max to end of year 1 values?\n",
    "_min = 0\n",
    "\n",
    "mb = maf.MetricBundle.load(metric_files[-1])\n",
    "data = mb.metric_values.data\n",
    "mask = mb.metric_values.mask\n",
    "metric_vals = np.ma.array(data, mask=mask)\n",
    "    \n",
    "_max = np.amax(metric_vals)\n",
    "\n",
    "print(_min,_max)"
   ]
  },
  {
   "cell_type": "code",
   "execution_count": null,
   "id": "7514a7a2",
   "metadata": {
    "scrolled": true
   },
   "outputs": [],
   "source": [
    "img_files = []\n",
    "\n",
    "for i in range(len(metric_files)):\n",
    "\n",
    "#     if metric_files[i] not in metric_files_keep:\n",
    "#         continue\n",
    "\n",
    "    mb = maf.MetricBundle.load(metric_files[i])\n",
    "    data = mb.metric_values.data\n",
    "    mask = mb.metric_values.mask\n",
    "    metric_vals = np.ma.array(data, mask=mask)\n",
    "\n",
    "    print(metric_vals,len(metric_vals))\n",
    "\n",
    "    # replace the masked values with nan\n",
    "    metric_vals.fill_value = np.nan\n",
    "    \n",
    "    metric_fname = mb.file_root\n",
    "    print(metric_fname)\n",
    "    \n",
    "    title = metric_fname.split(\"nside-{}_\".format(nside))[-1].split(\"_and_note\")[0]\n",
    "    t_split = title.split(\"_\")\n",
    "#     title = \"$N$ visits, baseline, filter = ${}$, $t$ = {}d\".format(t_split[1], t_split[-1])\n",
    "    title = \"$N$ visits, filter = ${}$, $t$ = {}d\".format(t_split[1], t_split[-1])\n",
    "    print(title)\n",
    "    \n",
    "    #plot the skymap\n",
    "    x = hp.mollview(metric_vals, title=title, \n",
    "#                     min = _min, max = _max,\n",
    "                    cbar = None)\n",
    "    hp.graticule()\n",
    "\n",
    "    # customise the colorbar\n",
    "    fig = plt.gcf()\n",
    "    ax = plt.gca()\n",
    "    image = ax.get_images()[0]\n",
    "    cbar = fig.colorbar(image, ax=ax, orientation = \"horizontal\", shrink = 0.5, location = \"bottom\",\n",
    "                       pad = 0.05)\n",
    "    cbar.set_label(\"count n visits\")\n",
    "\n",
    "    fname = \"{}/{}.png\".format(savefig_path,metric_fname)\n",
    "    img_files.append(fname)\n",
    "    plt.savefig(fname, facecolor=\"w\", transparent=True, bbox_inches=\"tight\")\n",
    "    \n",
    "    if len(metric_files_keep)<len(metric_files):\n",
    "        fname = \"{}/{}.pdf\".format(savefig_path,metric_fname)\n",
    "        plt.savefig(fname, facecolor=\"w\", transparent=True, bbox_inches=\"tight\")\n",
    "\n",
    "    plt.show()"
   ]
  },
  {
   "cell_type": "code",
   "execution_count": null,
   "id": "1d0e4951",
   "metadata": {},
   "outputs": [],
   "source": [
    "# Build GIF\n",
    "gif_file = '{}/{}.gif'.format(savefig_path,\"_\".join(metric_fname.split(\"_lt_*_\")).split(\".npz\")[0])\n",
    "print(gif_file)\n",
    "with imageio.get_writer(gif_file, mode='I') as writer:\n",
    "    for filename in img_files:\n",
    "        image = imageio.imread(filename)\n",
    "        writer.append_data(image)"
   ]
  },
  {
   "cell_type": "code",
   "execution_count": null,
   "id": "32142368",
   "metadata": {},
   "outputs": [],
   "source": [
    "display(Image(data=open(gif_file,'rb').read(), format='gif'))"
   ]
  },
  {
   "cell_type": "code",
   "execution_count": null,
   "id": "f04389e3",
   "metadata": {},
   "outputs": [],
   "source": [
    "# Build mp4\n",
    "mp4_file = '{}/{}.mp4'.format(savefig_path,\"_\".join(metric_fname.split(\"_lt_*_\")).split(\".npz\")[0])\n",
    "print(mp4_file)\n",
    "with imageio.get_writer(mp4_file, mode='I') as writer:\n",
    "    for filename in img_files:\n",
    "        image = imageio.imread(filename)\n",
    "        writer.append_data(image)"
   ]
  },
  {
   "cell_type": "code",
   "execution_count": null,
   "id": "3721505f",
   "metadata": {},
   "outputs": [],
   "source": []
  }
 ],
 "metadata": {
  "kernelspec": {
   "display_name": "rubin",
   "language": "python",
   "name": "rubin"
  },
  "language_info": {
   "codemirror_mode": {
    "name": "ipython",
    "version": 3
   },
   "file_extension": ".py",
   "mimetype": "text/x-python",
   "name": "python",
   "nbconvert_exporter": "python",
   "pygments_lexer": "ipython3",
   "version": "3.9.17"
  }
 },
 "nbformat": 4,
 "nbformat_minor": 5
}
